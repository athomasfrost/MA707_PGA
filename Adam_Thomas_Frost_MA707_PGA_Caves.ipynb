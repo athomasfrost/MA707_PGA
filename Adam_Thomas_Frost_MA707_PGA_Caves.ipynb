{
  "nbformat": 4,
  "nbformat_minor": 0,
  "metadata": {
    "colab": {
      "provenance": [],
      "authorship_tag": "ABX9TyMNEL3tekmHbXnDOKAjyCo3",
      "include_colab_link": true
    },
    "kernelspec": {
      "name": "python3",
      "display_name": "Python 3"
    },
    "language_info": {
      "name": "python"
    }
  },
  "cells": [
    {
      "cell_type": "markdown",
      "metadata": {
        "id": "view-in-github",
        "colab_type": "text"
      },
      "source": [
        "<a href=\"https://colab.research.google.com/github/athomasfrost/MA707_PGA/blob/main/Adam_Thomas_Frost_MA707_PGA_Caves.ipynb\" target=\"_parent\"><img src=\"https://colab.research.google.com/assets/colab-badge.svg\" alt=\"Open In Colab\"/></a>"
      ]
    },
    {
      "cell_type": "code",
      "execution_count": 4,
      "metadata": {
        "id": "vriHJP6pBRlG"
      },
      "outputs": [],
      "source": [
        "import sklearn\n",
        "import pandas as pd\n",
        "import numpy as np\n",
        "import matplotlib.pyplot\n",
        "import numpy as np\n",
        "from sklearn.linear_model import Ridge\n",
        "from sklearn.model_selection import train_test_split, GridSearchCV\n",
        "from sklearn.preprocessing import PolynomialFeatures, StandardScaler, OneHotEncoder\n",
        "from sklearn.pipeline import make_pipeline, Pipeline\n",
        "from sklearn.metrics import mean_squared_error\n",
        "import matplotlib.pyplot as plt\n",
        "import numpy as np\n",
        "from sklearn.datasets import make_classification\n",
        "from sklearn.linear_model import LogisticRegression\n",
        "from sklearn.metrics import accuracy_score, confusion_matrix\n",
        "from sklearn.model_selection import cross_val_predict, cross_val_score\n",
        "import matplotlib.pyplot as plt\n",
        "from sklearn.impute import SimpleImputer\n",
        "from sklearn.compose import ColumnTransformer\n",
        "from google.colab import files\n",
        "import bs4\n",
        "from bs4 import BeautifulSoup\n",
        "import requests\n",
        "#import wikipedia\n",
        "from datetime import datetime"
      ]
    },
    {
      "cell_type": "markdown",
      "source": [
        "# 2025 BMW Championship - Caves Valley Golf Club\n",
        "#### MA707 Machine Learning Project\n",
        "Adam Thomas-Frost\n",
        "\n"
      ],
      "metadata": {
        "id": "g92rHERDCqW7"
      }
    },
    {
      "cell_type": "code",
      "source": [
        "name_list = pd.read_csv('https://raw.githubusercontent.com/athomasfrost/MA707_PGA/main/Top_200_Golfer_List.csv')\n"
      ],
      "metadata": {
        "id": "hguKRrGTCJn5"
      },
      "execution_count": 5,
      "outputs": []
    }
  ]
}